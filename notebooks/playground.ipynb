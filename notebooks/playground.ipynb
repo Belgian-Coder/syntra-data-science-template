{
 "cells": [
  {
   "cell_type": "markdown",
   "source": [
    " use the %autoreload magic command to automatically reload modules before executing user code. \n",
    " %autoreload 2 reloads all modules (except those excluded by %aimport) every time before executing the Python code typed."
   ],
   "metadata": {
    "collapsed": false
   },
   "id": "57f79060b6b219a9"
  },
  {
   "cell_type": "code",
   "outputs": [],
   "source": [
    "%load_ext autoreload\n",
    "%autoreload 2"
   ],
   "metadata": {
    "collapsed": false,
    "ExecuteTime": {
     "end_time": "2024-01-21T14:02:52.967054100Z",
     "start_time": "2024-01-21T14:02:52.936924400Z"
    }
   },
   "id": "8db5b53a0e9ba233",
   "execution_count": 1
  },
  {
   "cell_type": "markdown",
   "source": [
    "Add exceptions for packages to not automatic reload"
   ],
   "metadata": {
    "collapsed": false
   },
   "id": "2ce91845e385b92d"
  },
  {
   "cell_type": "code",
   "outputs": [],
   "source": [
    "%aimport -pandas, -numpy, -matplotlib.pyplot, -seaborn, -os, -sys"
   ],
   "metadata": {
    "collapsed": false,
    "ExecuteTime": {
     "end_time": "2024-01-21T14:02:52.982578800Z",
     "start_time": "2024-01-21T14:02:52.967054100Z"
    }
   },
   "id": "98ce8dd90e04541e",
   "execution_count": 2
  },
  {
   "cell_type": "markdown",
   "source": [
    "Group your import statements here"
   ],
   "metadata": {
    "collapsed": false
   },
   "id": "32eb96ddbb9fdfc4"
  },
  {
   "cell_type": "code",
   "outputs": [],
   "source": [
    "# General libraries\n",
    "# import pandas as pd\n",
    "import numpy as np\n",
    "# import matplotlib.pyplot as plt\n",
    "# import seaborn as sns\n",
    "import os\n",
    "import sys\n",
    "# import tqdm\n",
    "import json\n",
    "\n",
    "# Custom scripts here\n",
    "# Add the 'scripts' directory to the Python path\n",
    "scripts_path = os.path.abspath('../scripts')\n",
    "if scripts_path not in sys.path:\n",
    "    sys.path.append(scripts_path)\n",
    "\n",
    "from scripts import my_scripts as ms"
   ],
   "metadata": {
    "collapsed": true,
    "ExecuteTime": {
     "end_time": "2024-01-21T14:02:53.055549700Z",
     "start_time": "2024-01-21T14:02:52.982578800Z"
    }
   },
   "id": "initial_id",
   "execution_count": 3
  },
  {
   "cell_type": "markdown",
   "source": [
    "Example how to call your custom scripts"
   ],
   "metadata": {
    "collapsed": false
   },
   "id": "a7df3ece4f7e617b"
  },
  {
   "cell_type": "code",
   "outputs": [
    {
     "data": {
      "text/plain": "'Hello, world from you library!'"
     },
     "execution_count": 4,
     "metadata": {},
     "output_type": "execute_result"
    }
   ],
   "source": [
    "ms.hello_world()"
   ],
   "metadata": {
    "collapsed": false,
    "ExecuteTime": {
     "end_time": "2024-01-21T14:02:53.074415200Z",
     "start_time": "2024-01-21T14:02:53.056548200Z"
    }
   },
   "id": "2b6f69bd62541673",
   "execution_count": 4
  },
  {
   "cell_type": "markdown",
   "source": [
    "Read the settings.json file and extract to variables\n"
   ],
   "metadata": {
    "collapsed": false
   },
   "id": "8b4e6a956ed68a4a"
  },
  {
   "cell_type": "code",
   "outputs": [
    {
     "name": "stdout",
     "output_type": "stream",
     "text": [
      "input Directory: data/input\n",
      "intermediate Directory: data/intermediate\n",
      "output Directory: data/output\n"
     ]
    }
   ],
   "source": [
    "# Construct the path to the settings.json file\n",
    "settings_path = os.path.join(os.path.dirname(os.getcwd()), 'settings.json')\n",
    "\n",
    "# Read the JSON file\n",
    "with open(settings_path, 'r') as file:\n",
    "    settings = json.load(file)\n",
    "\n",
    "# Accessing data from the JSON file\n",
    "input_dir = settings['data']['input-directory']\n",
    "intermediate_dir = settings['data']['intermediate-directory']\n",
    "output_dir = settings['data']['output-directory']\n",
    "\n",
    "# Print the paths to verify\n",
    "print(\"input Directory:\", input_dir)\n",
    "print(\"intermediate Directory:\", intermediate_dir)\n",
    "print(\"output Directory:\", output_dir)"
   ],
   "metadata": {
    "collapsed": false,
    "ExecuteTime": {
     "end_time": "2024-01-21T14:02:53.095873200Z",
     "start_time": "2024-01-21T14:02:53.075923800Z"
    }
   },
   "id": "3e48a200f56bc11a",
   "execution_count": 5
  }
 ],
 "metadata": {
  "kernelspec": {
   "display_name": "Python 3",
   "language": "python",
   "name": "python3"
  },
  "language_info": {
   "codemirror_mode": {
    "name": "ipython",
    "version": 2
   },
   "file_extension": ".py",
   "mimetype": "text/x-python",
   "name": "python",
   "nbconvert_exporter": "python",
   "pygments_lexer": "ipython2",
   "version": "2.7.6"
  }
 },
 "nbformat": 4,
 "nbformat_minor": 5
}
