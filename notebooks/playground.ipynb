{
 "cells": [
  {
   "cell_type": "markdown",
   "source": [
    " use the %autoreload magic command to automatically reload modules before executing user code. \n",
    " %autoreload 2 reloads all modules (except those excluded by %aimport) every time before executing the Python code typed."
   ],
   "metadata": {
    "collapsed": false
   },
   "id": "57f79060b6b219a9"
  },
  {
   "cell_type": "code",
   "outputs": [
    {
     "name": "stdout",
     "output_type": "stream",
     "text": [
      "The autoreload extension is already loaded. To reload it, use:\n",
      "  %reload_ext autoreload\n"
     ]
    }
   ],
   "source": [
    "%load_ext autoreload\n",
    "%autoreload 2"
   ],
   "metadata": {
    "collapsed": false,
    "ExecuteTime": {
     "end_time": "2024-01-21T12:53:55.622502100Z",
     "start_time": "2024-01-21T12:53:55.591726100Z"
    }
   },
   "id": "8db5b53a0e9ba233",
   "execution_count": 13
  },
  {
   "cell_type": "markdown",
   "source": [
    "Add exceptions for packages to not automatic reload"
   ],
   "metadata": {
    "collapsed": false
   },
   "id": "2ce91845e385b92d"
  },
  {
   "cell_type": "code",
   "outputs": [],
   "source": [
    "%aimport -pandas, -numpy, -matplotlib.pyplot, -seaborn, -os, -sys"
   ],
   "metadata": {
    "collapsed": false,
    "ExecuteTime": {
     "end_time": "2024-01-21T12:53:55.657624600Z",
     "start_time": "2024-01-21T12:53:55.621502800Z"
    }
   },
   "id": "98ce8dd90e04541e",
   "execution_count": 14
  },
  {
   "cell_type": "markdown",
   "source": [
    "Group your import statements here"
   ],
   "metadata": {
    "collapsed": false
   },
   "id": "32eb96ddbb9fdfc4"
  },
  {
   "cell_type": "code",
   "outputs": [],
   "source": [
    "# General libraries\n",
    "# import pandas as pd\n",
    "import numpy as np\n",
    "# import matplotlib.pyplot as plt\n",
    "# import seaborn as sns\n",
    "# import os\n",
    "import sys\n",
    "# import tqdm\n",
    "\n",
    "# Custom scripts here\n",
    "# Add the scripts directory to the Python path\n",
    "sys.path.insert(0, '../scripts')\n",
    "import my_scripts as ms\n",
    "\n"
   ],
   "metadata": {
    "collapsed": true,
    "ExecuteTime": {
     "end_time": "2024-01-21T12:53:55.678152500Z",
     "start_time": "2024-01-21T12:53:55.649116600Z"
    }
   },
   "id": "initial_id",
   "execution_count": 15
  },
  {
   "cell_type": "markdown",
   "source": [
    "Example how to call your custom scripts"
   ],
   "metadata": {
    "collapsed": false
   },
   "id": "a7df3ece4f7e617b"
  },
  {
   "cell_type": "code",
   "outputs": [
    {
     "data": {
      "text/plain": "'Hello, world from you library!'"
     },
     "execution_count": 16,
     "metadata": {},
     "output_type": "execute_result"
    }
   ],
   "source": [
    "ms.hello_world()"
   ],
   "metadata": {
    "collapsed": false,
    "ExecuteTime": {
     "end_time": "2024-01-21T12:53:55.706272Z",
     "start_time": "2024-01-21T12:53:55.677649200Z"
    }
   },
   "id": "2b6f69bd62541673",
   "execution_count": 16
  },
  {
   "cell_type": "markdown",
   "source": [],
   "metadata": {
    "collapsed": false
   },
   "id": "8997e4639a25b8f8"
  }
 ],
 "metadata": {
  "kernelspec": {
   "display_name": "Python 3",
   "language": "python",
   "name": "python3"
  },
  "language_info": {
   "codemirror_mode": {
    "name": "ipython",
    "version": 2
   },
   "file_extension": ".py",
   "mimetype": "text/x-python",
   "name": "python",
   "nbconvert_exporter": "python",
   "pygments_lexer": "ipython2",
   "version": "2.7.6"
  }
 },
 "nbformat": 4,
 "nbformat_minor": 5
}
